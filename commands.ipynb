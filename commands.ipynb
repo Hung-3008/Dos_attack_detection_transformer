{
 "cells": [
  {
   "cell_type": "code",
   "execution_count": 3,
   "metadata": {},
   "outputs": [
    {
     "name": "stdout",
     "output_type": "stream",
     "text": [
      "Number of DoS samples: 12264\n",
      "Number of Normal samples: 56000\n"
     ]
    }
   ],
   "source": [
    "import pandas as pd \n",
    "import duckdb\n",
    "\n",
    "data_path = \"data/UNSW_NB15_DoS_train_data.csv\"\n",
    "conn = duckdb.connect(database=':memory:')\n",
    "\n",
    "query = f\"\"\"\n",
    "    SELECT * FROM read_csv_auto('{data_path}')\n",
    "    WHERE attack_cat = 'DoS' and label = 1\n",
    "\"\"\"\n",
    "df_dos = conn.execute(query).df()\n",
    "\n",
    "# count number of DoS samples\n",
    "num_dos_samples = len(df_dos)\n",
    "print(f\"Number of DoS samples: {num_dos_samples}\")\n",
    "\n",
    "# count number of normal samples\n",
    "query_normal = f\"\"\"\n",
    "    SELECT * FROM read_csv_auto('{data_path}')\n",
    "    WHERE attack_cat = 'Normal'\n",
    "\"\"\"\n",
    "df_normal = conn.execute(query_normal).df()\n",
    "num_normal_samples = len(df_normal)\n",
    "print(f\"Number of Normal samples: {num_normal_samples}\")\n",
    "\n"
   ]
  }
 ],
 "metadata": {
  "kernelspec": {
   "display_name": "Python 3",
   "language": "python",
   "name": "python3"
  },
  "language_info": {
   "codemirror_mode": {
    "name": "ipython",
    "version": 3
   },
   "file_extension": ".py",
   "mimetype": "text/x-python",
   "name": "python",
   "nbconvert_exporter": "python",
   "pygments_lexer": "ipython3",
   "version": "3.10.12"
  }
 },
 "nbformat": 4,
 "nbformat_minor": 4
}
